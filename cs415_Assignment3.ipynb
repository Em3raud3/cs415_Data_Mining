{
 "cells": [
  {
   "cell_type": "code",
   "execution_count": 1,
   "source": [
    "import pandas as pd\n",
    "import matplotlib.pyplot as plt\n",
    "\n",
    "#! Source of Data https://github.com/fivethirtyeight/data/tree/master/candy-power-ranking\n",
    "\n",
    "#! Downloaded dataset\n",
    "\n",
    "df = pd.read_csv(\"https://raw.githubusercontent.com/fivethirtyeight/data/master/candy-power-ranking/candy-data.csv\")\n",
    "\n",
    "# * candy-data.csv includes attributes for each candy along with its ranking. For binary variables, 1 means yes, 0 means no.\n",
    "# * There are 13 different attributes in the dataset\n",
    "\n",
    "# * The Class of this dataset is the different kind of candy bars\n",
    "# * chocolate | Does it contain chocolate?\n",
    "# * fruity | Is it fruit flavored?\n",
    "# * caramel | Is there caramel in the candy?\n",
    "# * peanutalmondy | Does it contain peanuts, peanut butter or almonds?\n",
    "# * nougat | Does it contain nougat?\n",
    "# * crispedricewafer | Does it contain crisped rice, wafers, or a cookie component?\n",
    "# * hard | Is it a hard candy?\n",
    "# * bar | Is it a candy bar?\n",
    "# * pluribus | Is it one of many candies in a bag or box?\n",
    "# * sugarpercent | The percentile of sugar it falls under within the data set.\n",
    "# * pricepercent | The unit price percentile compared to the rest of the set.\n",
    "# * winpercent | The overall win percentage according to 269,000 matchups.\n",
    "\n",
    "print('Number of instances = %d' % (df.shape[0]))\n",
    "print('Number of attributes = %d' % (df.shape[1]))\n",
    "\n",
    "print(df.head())\n",
    "\n",
    "for col in df.columns:\n",
    "    print(f\"{col}: {df[col].isna().sum()}\")\n",
    "\n",
    "#! Dropped class name because you can't compare it\n",
    "df2 = df.drop(columns=['competitorname'])\n",
    "\n",
    "df2.boxplot(figsize=(20,3))\n",
    "\n",
    "#! Display the box plot\n",
    "plt.show()\n",
    "\n",
    "#! Explain about the box plot\n",
    "\n",
    "#* Due to the nature of the data being 1's and 0's meaning boolean values, the \n",
    "#* box plot don't show anything too meaningful. If anything, where there are opened circles\n",
    "#* that the majority of the candy bars did not have that feature.\n",
    "\n",
    "#* Most Candy bards did not have these features\n",
    "\n",
    "#* caramel\n",
    "#* peanutyalmondy\n",
    "#* nougat\n",
    "#* crispedricewafer\n",
    "#* hard\n",
    "#* bar\n",
    "\n",
    "#! Display the number of duplicate rows.\n",
    "dups = df.duplicated()\n",
    "print('Number of duplicate rows = %d' % (dups.sum()))\n",
    "\n",
    "#! Discard the duplicate data\n",
    "df = df.drop_duplicates()\n"
   ],
   "outputs": [
    {
     "output_type": "stream",
     "name": "stdout",
     "text": [
      "Number of instances = 85\n",
      "Number of attributes = 13\n",
      "  competitorname  chocolate  fruity  caramel  peanutyalmondy  nougat  \\\n",
      "0      100 Grand          1       0        1               0       0   \n",
      "1   3 Musketeers          1       0        0               0       1   \n",
      "2       One dime          0       0        0               0       0   \n",
      "3    One quarter          0       0        0               0       0   \n",
      "4      Air Heads          0       1        0               0       0   \n",
      "\n",
      "   crispedricewafer  hard  bar  pluribus  sugarpercent  pricepercent  \\\n",
      "0                 1     0    1         0         0.732         0.860   \n",
      "1                 0     0    1         0         0.604         0.511   \n",
      "2                 0     0    0         0         0.011         0.116   \n",
      "3                 0     0    0         0         0.011         0.511   \n",
      "4                 0     0    0         0         0.906         0.511   \n",
      "\n",
      "   winpercent  \n",
      "0   66.971725  \n",
      "1   67.602936  \n",
      "2   32.261086  \n",
      "3   46.116505  \n",
      "4   52.341465  \n",
      "competitorname: 0\n",
      "chocolate: 0\n",
      "fruity: 0\n",
      "caramel: 0\n",
      "peanutyalmondy: 0\n",
      "nougat: 0\n",
      "crispedricewafer: 0\n",
      "hard: 0\n",
      "bar: 0\n",
      "pluribus: 0\n",
      "sugarpercent: 0\n",
      "pricepercent: 0\n",
      "winpercent: 0\n"
     ]
    },
    {
     "output_type": "display_data",
     "data": {
      "image/png": "[encoded data removed]",
      "text/plain": [
       "<Figure size 1440x216 with 1 Axes>"
      ]
     },
     "metadata": {
      "needs_background": "light"
     }
    },
    {
     "output_type": "stream",
     "name": "stdout",
     "text": [
      "Number of duplicate rows = 0\n"
     ]
    }
   ],
   "metadata": {}
  }
 ],
 "metadata": {
  "orig_nbformat": 4,
  "language_info": {
   "name": "python",
   "version": "3.8.10",
   "mimetype": "text/x-python",
   "codemirror_mode": {
    "name": "ipython",
    "version": 3
   },
   "pygments_lexer": "ipython3",
   "nbconvert_exporter": "python",
   "file_extension": ".py"
  },
  "kernelspec": {
   "name": "python3",
   "display_name": "Python 3.8.10 64-bit"
  },
  "interpreter": {
   "hash": "767d51c1340bd893661ea55ea3124f6de3c7a262a8b4abca0554b478b1e2ff90"
  }
 },
 "nbformat": 4,
 "nbformat_minor": 2
}